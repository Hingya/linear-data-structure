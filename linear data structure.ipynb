{
 "cells": [
  {
   "cell_type": "markdown",
   "id": "dc7c9e4e",
   "metadata": {},
   "source": [
    "Q1. Write a program to find all pairs of an integer array whose sum is equal to a given number?"
   ]
  },
  {
   "cell_type": "code",
   "execution_count": 1,
   "id": "14ff42ab",
   "metadata": {},
   "outputs": [],
   "source": [
    "def Pairs(arr, n, sum):\n",
    "    count = 0  \n",
    "    for i in range(0, n):\n",
    "        for j in range(i + 1, n):\n",
    "            if arr[i] + arr[j] == sum:\n",
    "                count += 1\n",
    "                return count"
   ]
  },
  {
   "cell_type": "code",
   "execution_count": 2,
   "id": "8fbf024a",
   "metadata": {},
   "outputs": [
    {
     "name": "stdout",
     "output_type": "stream",
     "text": [
      "Count of pairs is 1\n"
     ]
    }
   ],
   "source": [
    "arr = [1, 5, 7, 1, 5]\n",
    "n = len(arr)\n",
    "sum = 6\n",
    "print(\"Count of pairs is\",Pairs(arr, n, sum))"
   ]
  },
  {
   "cell_type": "markdown",
   "id": "0fb45c4a",
   "metadata": {},
   "source": [
    "Q2. Write a program to reverse an array in place? \n",
    "In place means you cannot create a new array. You have to update the original array."
   ]
  },
  {
   "cell_type": "code",
   "execution_count": 3,
   "id": "2f641897",
   "metadata": {},
   "outputs": [],
   "source": [
    "def reverse_List(A, start, end):\n",
    "    if start >= end:\n",
    "        return\n",
    "    A[start], A[end] = A[end], A[start]\n",
    "    reverse_List(A, start+1, end-1)"
   ]
  },
  {
   "cell_type": "code",
   "execution_count": 4,
   "id": "b30df63c",
   "metadata": {},
   "outputs": [
    {
     "name": "stdout",
     "output_type": "stream",
     "text": [
      "[5, 4, 3, 2, 1]\n"
     ]
    }
   ],
   "source": [
    "A = [1, 2, 3, 4, 5]\n",
    "reverse_List(A, 0, 4)\n",
    "print(A)"
   ]
  },
  {
   "cell_type": "markdown",
   "id": "90f160db",
   "metadata": {},
   "source": [
    "Q3. Write a program to check if two strings are a rotation of each other?"
   ]
  },
  {
   "cell_type": "code",
   "execution_count": 10,
   "id": "5d57b9ee",
   "metadata": {},
   "outputs": [],
   "source": [
    "def Rotations(string1, string2):\n",
    "    size1 = len(string1)\n",
    "    size2 = len(string2)\n",
    "    temp = ''\n",
    "    if size1 != size2:\n",
    "        return 0\n",
    "    temp = string1 + string1\n",
    "    if (temp.count(string2)> 0):\n",
    "        return 1\n",
    "    else:\n",
    "        return 0"
   ]
  },
  {
   "cell_type": "code",
   "execution_count": 11,
   "id": "cbe11a6f",
   "metadata": {},
   "outputs": [
    {
     "name": "stdout",
     "output_type": "stream",
     "text": [
      "Strings are rotations of each other\n"
     ]
    }
   ],
   "source": [
    "string1 = \"AACD\"\n",
    "string2 = \"ACDA\"\n",
    " \n",
    "if Rotations(string1, string2):\n",
    "    print(\"Strings are rotations of each other\")\n",
    "else:\n",
    "    print(\"Strings are not rotations of each other\")"
   ]
  },
  {
   "cell_type": "markdown",
   "id": "a645329a",
   "metadata": {},
   "source": [
    "Q4. Write a program to print the first non-repeated character from a string?"
   ]
  },
  {
   "cell_type": "code",
   "execution_count": 12,
   "id": "79ff6f68",
   "metadata": {},
   "outputs": [],
   "source": [
    "NO_OF_CHARS = 256\n",
    "\n",
    "def CharCount(string):\n",
    "    count = [0] * NO_OF_CHARS\n",
    "    for i in string:\n",
    "        count[ord(i)]+= 1\n",
    "    return count\n",
    "def firstNonRepeating(string):\n",
    "    count = CharCount(string)\n",
    "    index = -1\n",
    "    k = 0\n",
    "\n",
    "    for i in string:\n",
    "        if count[ord(i)] == 1:\n",
    "            index = k\n",
    "            break\n",
    "        k += 1\n",
    "\n",
    "    return index"
   ]
  },
  {
   "cell_type": "code",
   "execution_count": 13,
   "id": "5abbcc46",
   "metadata": {},
   "outputs": [
    {
     "name": "stdout",
     "output_type": "stream",
     "text": [
      "First non-repeating character is e\n"
     ]
    }
   ],
   "source": [
    "string = \"edyoda\"\n",
    "index = firstNonRepeating(string)\n",
    "if index == 1:\n",
    "    print(\"Either all characters are repeating or string is empty\")\n",
    "else:\n",
    "    print(\"First non-repeating character is \" + string[index])"
   ]
  },
  {
   "cell_type": "markdown",
   "id": "4c9b2287",
   "metadata": {},
   "source": [
    "Q5. Read about the Tower of Hanoi algorithm. Write a program to implement it."
   ]
  },
  {
   "cell_type": "code",
   "execution_count": 14,
   "id": "77156cb1",
   "metadata": {},
   "outputs": [],
   "source": [
    "def Hanoi(n,source,temp,destination):\n",
    "    if n==1:\n",
    "        print(\"Move disk %s from %s ----->>>%s\"%(n,source,destination))\n",
    "    else:\n",
    "        Hanoi(n-1,source,destination,temp)\n",
    "        print(\"Move disk %s from %s ----->>>%s\"%(n,source,destination))\n",
    "        Hanoi(n-1, temp,source,destination)"
   ]
  },
  {
   "cell_type": "code",
   "execution_count": 15,
   "id": "0c6cd958",
   "metadata": {},
   "outputs": [
    {
     "name": "stdout",
     "output_type": "stream",
     "text": [
      "Move disk 1 from A ----->>>B\n",
      "Move disk 2 from A ----->>>C\n",
      "Move disk 1 from B ----->>>C\n",
      "Move disk 3 from A ----->>>B\n",
      "Move disk 1 from C ----->>>A\n",
      "Move disk 2 from C ----->>>B\n",
      "Move disk 1 from A ----->>>B\n",
      "Move disk 4 from A ----->>>C\n",
      "Move disk 1 from B ----->>>C\n",
      "Move disk 2 from B ----->>>A\n",
      "Move disk 1 from C ----->>>A\n",
      "Move disk 3 from B ----->>>C\n",
      "Move disk 1 from A ----->>>B\n",
      "Move disk 2 from A ----->>>C\n",
      "Move disk 1 from B ----->>>C\n"
     ]
    }
   ],
   "source": [
    "n = 4\n",
    "Hanoi(n,'A','B','C')"
   ]
  },
  {
   "cell_type": "markdown",
   "id": "73eebe7d",
   "metadata": {},
   "source": [
    "Q6. Read about infix, prefix, and postfix expressions. \n",
    "    Write a program to convert postfix to prefix expression."
   ]
  },
  {
   "cell_type": "code",
   "execution_count": 16,
   "id": "c154b20f",
   "metadata": {},
   "outputs": [
    {
     "name": "stdout",
     "output_type": "stream",
     "text": [
      "Prefix :  +AB-CD\n"
     ]
    }
   ],
   "source": [
    "def Operator(x): \n",
    "    if x == \"+\":\n",
    "        return True\n",
    "    if x == \"-\":\n",
    "        return True\n",
    "    if x == \"/\":\n",
    "        return True\n",
    "    if x == \"*\":\n",
    "        return True\n",
    "    else:\n",
    "        return False\n",
    "\n",
    "def postToPre(exp): \n",
    "    s = []\n",
    " \n",
    "    length = len(exp)\n",
    "    for i in range(length): \n",
    "        if (Operator(exp[i])):   \n",
    "            op1 = s[-1]\n",
    "            s.pop()\n",
    "            op2 = s[-1]\n",
    "            s.pop()\n",
    "            temp = exp[i] + op2 + op1\n",
    "            s.append(temp)\n",
    "        else:\n",
    "            s.append(exp[i])\n",
    "    ans = \"\"\n",
    "    for i in s:\n",
    "        ans += i\n",
    "    return ans\n",
    " \n",
    "if __name__ == \"__main__\":\n",
    "    exp = \"AB+CD-\"  \n",
    "    print(\"Prefix : \", postToPre(exp))"
   ]
  },
  {
   "cell_type": "markdown",
   "id": "928d70ab",
   "metadata": {},
   "source": [
    "Q7. Write a program to convert prefix expression to infix expression.\n"
   ]
  },
  {
   "cell_type": "code",
   "execution_count": 26,
   "id": "f5dc4542",
   "metadata": {},
   "outputs": [],
   "source": [
    "def prefixToInfix(prefix):\n",
    "    stack = []\n",
    "    i = len(prefix) - 1\n",
    "    while i >= 0:\n",
    "        if not Operator(prefix[i]):\n",
    "             \n",
    "            stack.append(prefix[i])\n",
    "            i -= 1\n",
    "        else:\n",
    "            Str = \"(\" + stack.pop() + prefix[i] + stack.pop() + \")\"\n",
    "            stack.append(Str)\n",
    "            i -= 1\n",
    "            return stack.pop()\n",
    "def Operator(c):\n",
    "    if c == \"*\" or c == \"+\" or c == \"-\" or c == \"/\" or c == \"^\" or c == \"(\" or c == \")\":\n",
    "        return True\n",
    "    else:\n",
    "        return False"
   ]
  },
  {
   "cell_type": "code",
   "execution_count": 27,
   "id": "b97ca2d8",
   "metadata": {},
   "outputs": [
    {
     "data": {
      "text/plain": [
       "'(A/K)'"
      ]
     },
     "execution_count": 27,
     "metadata": {},
     "output_type": "execute_result"
    }
   ],
   "source": [
    "Str = \"*-A/BC-/AKL\"\n",
    "prefixToInfix(Str)"
   ]
  },
  {
   "cell_type": "markdown",
   "id": "18e09fdd",
   "metadata": {},
   "source": [
    "Q8. Write a program to check if all the brackets are closed in a given code snippet."
   ]
  },
  {
   "cell_type": "code",
   "execution_count": 28,
   "id": "d151e6ba",
   "metadata": {},
   "outputs": [],
   "source": [
    "def BracketsBalanced(expr):\n",
    "    stack = []\n",
    " \n",
    "    for char in expr:\n",
    "        if char in [\"(\", \"{\", \"[\"]:\n",
    " \n",
    "            stack.append(char)\n",
    "        else:\n",
    "            if not stack:\n",
    "                return False\n",
    "            current_char = stack.pop()\n",
    "            if current_char == '(':\n",
    "                if char != \")\":\n",
    "                    return False\n",
    "            if current_char == '{':\n",
    "                if char != \"}\":\n",
    "                    return False\n",
    "            if current_char == '[':\n",
    "                if char != \"]\":\n",
    "                    return False    \n",
    "    if stack:\n",
    "        return False\n",
    "    return True"
   ]
  },
  {
   "cell_type": "code",
   "execution_count": 32,
   "id": "bb98d46d",
   "metadata": {},
   "outputs": [
    {
     "name": "stdout",
     "output_type": "stream",
     "text": [
      "([])\n",
      "Balanced\n"
     ]
    }
   ],
   "source": [
    "expr = input()\n",
    " \n",
    "if BracketsBalanced(expr):\n",
    "    print(\"Balanced\")\n",
    "else:\n",
    "    print(\"Not Balanced\")"
   ]
  },
  {
   "cell_type": "markdown",
   "id": "b4f0dffe",
   "metadata": {},
   "source": [
    "Q9. Write a program to reverse a stack."
   ]
  },
  {
   "cell_type": "code",
   "execution_count": 33,
   "id": "0b7671a7",
   "metadata": {},
   "outputs": [],
   "source": [
    "def insertAtBottom(stack, item):\n",
    "    if isEmpty(stack):\n",
    "        push(stack, item)\n",
    "    else:\n",
    "        temp = pop(stack)\n",
    "        insertAtBottom(stack, item)\n",
    "        push(stack, temp)\n",
    "def reverse(stack):\n",
    "    if not isEmpty(stack):\n",
    "        temp = pop(stack)\n",
    "        reverse(stack)\n",
    "        insertAtBottom(stack, temp)\n",
    "def createStack():\n",
    "    stack = []\n",
    "    return stack\n",
    "def isEmpty( stack ):\n",
    "    return len(stack) == 0\n",
    "\n",
    "def push( stack, item ):\n",
    "    stack.append( item )\n",
    "    \n",
    "def pop( stack ):\n",
    " \n",
    " \n",
    "    if(isEmpty( stack )):\n",
    "        print(\"Stack Underflow \")\n",
    "        exit(1)\n",
    "    return stack.pop()\n",
    " \n",
    "\n",
    "def prints(stack):\n",
    "    for i in range(len(stack)-1, -1, -1):\n",
    "        print(stack[i], end = ' ')\n",
    "    print()"
   ]
  },
  {
   "cell_type": "code",
   "execution_count": 34,
   "id": "fc5632fb",
   "metadata": {},
   "outputs": [
    {
     "name": "stdout",
     "output_type": "stream",
     "text": [
      "Original Stack \n",
      "1 2 3 4 \n",
      "Reversed Stack \n",
      "4 3 2 1 \n"
     ]
    }
   ],
   "source": [
    "stack = createStack()\n",
    "push( stack, str(4) )\n",
    "push( stack, str(3) )\n",
    "push( stack, str(2) )\n",
    "push( stack, str(1) )\n",
    "print(\"Original Stack \")\n",
    "prints(stack)\n",
    " \n",
    "reverse(stack)\n",
    " \n",
    "print(\"Reversed Stack \")\n",
    "prints(stack)"
   ]
  },
  {
   "cell_type": "markdown",
   "id": "8751fd40",
   "metadata": {},
   "source": [
    "Q10. Write a program to find the smallest number using a stack.\n"
   ]
  },
  {
   "cell_type": "code",
   "execution_count": 35,
   "id": "fb29de52",
   "metadata": {},
   "outputs": [],
   "source": [
    "class Stack():\n",
    "\n",
    "    def __init__(self):\n",
    "        self.data = []\n",
    "        self.min_data = []\n",
    "\n",
    "    def push(self, item):\n",
    "        if self.size() == 0:\n",
    "            self.min_data.append(item)\n",
    "        else:\n",
    "            self.min_data.append(min(self.min_data[self.size() - 1], item))\n",
    "        self.data.append(item)\n",
    "\n",
    "    def pop(self):\n",
    "        self.min_data.pop()\n",
    "        return self.data.pop()\n",
    "\n",
    "    def minimum(self):\n",
    "        return self.min_data[self.size() - 1]\n",
    "\n",
    "    def is_empty(self):\n",
    "        return self.size() == 0\n",
    "\n",
    "    def size(self):\n",
    "        return len(self.data)\n"
   ]
  },
  {
   "cell_type": "code",
   "execution_count": 36,
   "id": "73ea902d",
   "metadata": {},
   "outputs": [
    {
     "data": {
      "text/plain": [
       "1"
      ]
     },
     "execution_count": 36,
     "metadata": {},
     "output_type": "execute_result"
    }
   ],
   "source": [
    "stack_obj = Stack()\n",
    "stack_obj.push(3)\n",
    "stack_obj.push(5)\n",
    "stack_obj.push(1)\n",
    "stack_obj.minimum()"
   ]
  },
  {
   "cell_type": "code",
   "execution_count": null,
   "id": "781c2d30",
   "metadata": {},
   "outputs": [],
   "source": []
  }
 ],
 "metadata": {
  "kernelspec": {
   "display_name": "Python 3 (ipykernel)",
   "language": "python",
   "name": "python3"
  },
  "language_info": {
   "codemirror_mode": {
    "name": "ipython",
    "version": 3
   },
   "file_extension": ".py",
   "mimetype": "text/x-python",
   "name": "python",
   "nbconvert_exporter": "python",
   "pygments_lexer": "ipython3",
   "version": "3.9.7"
  }
 },
 "nbformat": 4,
 "nbformat_minor": 5
}
